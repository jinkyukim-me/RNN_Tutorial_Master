{
 "cells": [
  {
   "cell_type": "code",
   "execution_count": 1,
   "metadata": {
    "ExecuteTime": {
     "end_time": "2019-09-25T09:10:58.854010Z",
     "start_time": "2019-09-25T09:10:35.199043Z"
    }
   },
   "outputs": [],
   "source": [
    "import torch\n",
    "import torch.optim as optim\n",
    "import numpy as np"
   ]
  },
  {
   "cell_type": "code",
   "execution_count": 2,
   "metadata": {
    "ExecuteTime": {
     "end_time": "2019-09-25T09:10:58.922827Z",
     "start_time": "2019-09-25T09:10:58.860996Z"
    }
   },
   "outputs": [
    {
     "data": {
      "text/plain": [
       "<torch._C.Generator at 0x2905ecbe430>"
      ]
     },
     "execution_count": 2,
     "metadata": {},
     "output_type": "execute_result"
    }
   ],
   "source": [
    "# Random seed to make results deterministic and reproducible\n",
    "torch.manual_seed(0)"
   ]
  },
  {
   "cell_type": "code",
   "execution_count": 3,
   "metadata": {
    "ExecuteTime": {
     "end_time": "2019-09-25T09:10:58.940779Z",
     "start_time": "2019-09-25T09:10:58.927815Z"
    }
   },
   "outputs": [],
   "source": [
    "sentence = (\"if you want to build a ship, don't drum up people together to \"\n",
    "            \"collect wood and don't assign them tasks and work, but rather \"\n",
    "            \"teach them to long for the endless immensity of the sea.\")"
   ]
  },
  {
   "cell_type": "code",
   "execution_count": 4,
   "metadata": {
    "ExecuteTime": {
     "end_time": "2019-09-25T09:10:58.974697Z",
     "start_time": "2019-09-25T09:10:58.958736Z"
    }
   },
   "outputs": [],
   "source": [
    "# make dictionary\n",
    "char_set = list(set(sentence))\n",
    "char_dic = {c: i for i, c in enumerate(char_set)}"
   ]
  },
  {
   "cell_type": "code",
   "execution_count": 5,
   "metadata": {
    "ExecuteTime": {
     "end_time": "2019-09-25T09:10:58.998140Z",
     "start_time": "2019-09-25T09:10:58.987170Z"
    }
   },
   "outputs": [],
   "source": [
    "# hyper parameters\n",
    "dic_size = len(char_dic)\n",
    "hidden_size = len(char_dic)\n",
    "sequence_length = 10  # Any arbitrary number\n",
    "learning_rate = 0.1"
   ]
  },
  {
   "cell_type": "code",
   "execution_count": 6,
   "metadata": {
    "ExecuteTime": {
     "end_time": "2019-09-25T09:11:01.730470Z",
     "start_time": "2019-09-25T09:10:59.013634Z"
    }
   },
   "outputs": [
    {
     "name": "stdout",
     "output_type": "stream",
     "text": [
      "0 if you wan -> f you want\n",
      "1 f you want ->  you want \n",
      "2  you want  -> you want t\n",
      "3 you want t -> ou want to\n",
      "4 ou want to -> u want to \n",
      "5 u want to  ->  want to b\n",
      "6  want to b -> want to bu\n",
      "7 want to bu -> ant to bui\n",
      "8 ant to bui -> nt to buil\n",
      "9 nt to buil -> t to build\n",
      "10 t to build ->  to build \n",
      "11  to build  -> to build a\n",
      "12 to build a -> o build a \n",
      "13 o build a  ->  build a s\n",
      "14  build a s -> build a sh\n",
      "15 build a sh -> uild a shi\n",
      "16 uild a shi -> ild a ship\n",
      "17 ild a ship -> ld a ship,\n",
      "18 ld a ship, -> d a ship, \n",
      "19 d a ship,  ->  a ship, d\n",
      "20  a ship, d -> a ship, do\n",
      "21 a ship, do ->  ship, don\n",
      "22  ship, don -> ship, don'\n",
      "23 ship, don' -> hip, don't\n",
      "24 hip, don't -> ip, don't \n",
      "25 ip, don't  -> p, don't d\n",
      "26 p, don't d -> , don't dr\n",
      "27 , don't dr ->  don't dru\n",
      "28  don't dru -> don't drum\n",
      "29 don't drum -> on't drum \n",
      "30 on't drum  -> n't drum u\n",
      "31 n't drum u -> 't drum up\n",
      "32 't drum up -> t drum up \n",
      "33 t drum up  ->  drum up p\n",
      "34  drum up p -> drum up pe\n",
      "35 drum up pe -> rum up peo\n",
      "36 rum up peo -> um up peop\n",
      "37 um up peop -> m up peopl\n",
      "38 m up peopl ->  up people\n",
      "39  up people -> up people \n",
      "40 up people  -> p people t\n",
      "41 p people t ->  people to\n",
      "42  people to -> people tog\n",
      "43 people tog -> eople toge\n",
      "44 eople toge -> ople toget\n",
      "45 ople toget -> ple togeth\n",
      "46 ple togeth -> le togethe\n",
      "47 le togethe -> e together\n",
      "48 e together ->  together \n",
      "49  together  -> together t\n",
      "50 together t -> ogether to\n",
      "51 ogether to -> gether to \n",
      "52 gether to  -> ether to c\n",
      "53 ether to c -> ther to co\n",
      "54 ther to co -> her to col\n",
      "55 her to col -> er to coll\n",
      "56 er to coll -> r to colle\n",
      "57 r to colle ->  to collec\n",
      "58  to collec -> to collect\n",
      "59 to collect -> o collect \n",
      "60 o collect  ->  collect w\n",
      "61  collect w -> collect wo\n",
      "62 collect wo -> ollect woo\n",
      "63 ollect woo -> llect wood\n",
      "64 llect wood -> lect wood \n",
      "65 lect wood  -> ect wood a\n",
      "66 ect wood a -> ct wood an\n",
      "67 ct wood an -> t wood and\n",
      "68 t wood and ->  wood and \n",
      "69  wood and  -> wood and d\n",
      "70 wood and d -> ood and do\n",
      "71 ood and do -> od and don\n",
      "72 od and don -> d and don'\n",
      "73 d and don' ->  and don't\n",
      "74  and don't -> and don't \n",
      "75 and don't  -> nd don't a\n",
      "76 nd don't a -> d don't as\n",
      "77 d don't as ->  don't ass\n",
      "78  don't ass -> don't assi\n",
      "79 don't assi -> on't assig\n",
      "80 on't assig -> n't assign\n",
      "81 n't assign -> 't assign \n",
      "82 't assign  -> t assign t\n",
      "83 t assign t ->  assign th\n",
      "84  assign th -> assign the\n",
      "85 assign the -> ssign them\n",
      "86 ssign them -> sign them \n",
      "87 sign them  -> ign them t\n",
      "88 ign them t -> gn them ta\n",
      "89 gn them ta -> n them tas\n",
      "90 n them tas ->  them task\n",
      "91  them task -> them tasks\n",
      "92 them tasks -> hem tasks \n",
      "93 hem tasks  -> em tasks a\n",
      "94 em tasks a -> m tasks an\n",
      "95 m tasks an ->  tasks and\n",
      "96  tasks and -> tasks and \n",
      "97 tasks and  -> asks and w\n",
      "98 asks and w -> sks and wo\n",
      "99 sks and wo -> ks and wor\n",
      "100 ks and wor -> s and work\n",
      "101 s and work ->  and work,\n",
      "102  and work, -> and work, \n",
      "103 and work,  -> nd work, b\n",
      "104 nd work, b -> d work, bu\n",
      "105 d work, bu ->  work, but\n",
      "106  work, but -> work, but \n",
      "107 work, but  -> ork, but r\n",
      "108 ork, but r -> rk, but ra\n",
      "109 rk, but ra -> k, but rat\n",
      "110 k, but rat -> , but rath\n",
      "111 , but rath ->  but rathe\n",
      "112  but rathe -> but rather\n",
      "113 but rather -> ut rather \n",
      "114 ut rather  -> t rather t\n",
      "115 t rather t ->  rather te\n",
      "116  rather te -> rather tea\n",
      "117 rather tea -> ather teac\n",
      "118 ather teac -> ther teach\n",
      "119 ther teach -> her teach \n",
      "120 her teach  -> er teach t\n",
      "121 er teach t -> r teach th\n",
      "122 r teach th ->  teach the\n",
      "123  teach the -> teach them\n",
      "124 teach them -> each them \n",
      "125 each them  -> ach them t\n",
      "126 ach them t -> ch them to\n",
      "127 ch them to -> h them to \n",
      "128 h them to  ->  them to l\n",
      "129  them to l -> them to lo\n",
      "130 them to lo -> hem to lon\n",
      "131 hem to lon -> em to long\n",
      "132 em to long -> m to long \n",
      "133 m to long  ->  to long f\n",
      "134  to long f -> to long fo\n",
      "135 to long fo -> o long for\n",
      "136 o long for ->  long for \n",
      "137  long for  -> long for t\n",
      "138 long for t -> ong for th\n",
      "139 ong for th -> ng for the\n",
      "140 ng for the -> g for the \n",
      "141 g for the  ->  for the e\n",
      "142  for the e -> for the en\n",
      "143 for the en -> or the end\n",
      "144 or the end -> r the endl\n",
      "145 r the endl ->  the endle\n",
      "146  the endle -> the endles\n",
      "147 the endles -> he endless\n",
      "148 he endless -> e endless \n",
      "149 e endless  ->  endless i\n",
      "150  endless i -> endless im\n",
      "151 endless im -> ndless imm\n",
      "152 ndless imm -> dless imme\n",
      "153 dless imme -> less immen\n",
      "154 less immen -> ess immens\n",
      "155 ess immens -> ss immensi\n",
      "156 ss immensi -> s immensit\n",
      "157 s immensit ->  immensity\n",
      "158  immensity -> immensity \n",
      "159 immensity  -> mmensity o\n",
      "160 mmensity o -> mensity of\n",
      "161 mensity of -> ensity of \n",
      "162 ensity of  -> nsity of t\n",
      "163 nsity of t -> sity of th\n",
      "164 sity of th -> ity of the\n",
      "165 ity of the -> ty of the \n",
      "166 ty of the  -> y of the s\n",
      "167 y of the s ->  of the se\n",
      "168  of the se -> of the sea\n",
      "169 of the sea -> f the sea.\n"
     ]
    }
   ],
   "source": [
    "# data setting\n",
    "x_data = []\n",
    "y_data = []\n",
    "\n",
    "for i in range(0, len(sentence) - sequence_length):\n",
    "    x_str = sentence[i:i + sequence_length]\n",
    "    y_str = sentence[i + 1: i + sequence_length + 1]\n",
    "    print(i, x_str, '->', y_str)\n",
    "\n",
    "    x_data.append([char_dic[c] for c in x_str])  # x str to index\n",
    "    y_data.append([char_dic[c] for c in y_str])  # y str to index\n",
    "\n",
    "x_one_hot = [np.eye(dic_size)[x] for x in x_data]"
   ]
  },
  {
   "cell_type": "code",
   "execution_count": 7,
   "metadata": {
    "ExecuteTime": {
     "end_time": "2019-09-25T09:11:01.795312Z",
     "start_time": "2019-09-25T09:11:01.741440Z"
    }
   },
   "outputs": [],
   "source": [
    "# transform as torch tensor variable\n",
    "X = torch.FloatTensor(x_one_hot)\n",
    "Y = torch.LongTensor(y_data)"
   ]
  },
  {
   "cell_type": "code",
   "execution_count": 8,
   "metadata": {
    "ExecuteTime": {
     "end_time": "2019-09-25T09:11:01.839700Z",
     "start_time": "2019-09-25T09:11:01.813250Z"
    }
   },
   "outputs": [],
   "source": [
    "# declare RNN + FC\n",
    "class Net(torch.nn.Module):\n",
    "    def __init__(self, input_dim, hidden_dim, layers): #constructor\n",
    "        super(Net, self).__init__()\n",
    "        self.rnn = torch.nn.RNN(input_dim, hidden_dim, num_layers=layers, batch_first=True)\n",
    "        self.fc = torch.nn.Linear(hidden_dim, hidden_dim, bias=True)\n",
    "\n",
    "    def forward(self, x):\n",
    "        x, _status = self.rnn(x)\n",
    "        x = self.fc(x)\n",
    "        return x"
   ]
  },
  {
   "cell_type": "code",
   "execution_count": 9,
   "metadata": {
    "ExecuteTime": {
     "end_time": "2019-09-25T09:11:01.894076Z",
     "start_time": "2019-09-25T09:11:01.851671Z"
    }
   },
   "outputs": [],
   "source": [
    "net = Net(dic_size, hidden_size, 2)"
   ]
  },
  {
   "cell_type": "code",
   "execution_count": 10,
   "metadata": {
    "ExecuteTime": {
     "end_time": "2019-09-25T09:11:01.922390Z",
     "start_time": "2019-09-25T09:11:01.900892Z"
    }
   },
   "outputs": [],
   "source": [
    "# loss & optimizer setting\n",
    "criterion = torch.nn.CrossEntropyLoss()\n",
    "optimizer = optim.Adam(net.parameters(), learning_rate)"
   ]
  },
  {
   "cell_type": "code",
   "execution_count": 11,
   "metadata": {
    "ExecuteTime": {
     "end_time": "2019-09-25T09:11:09.340785Z",
     "start_time": "2019-09-25T09:11:01.931367Z"
    }
   },
   "outputs": [
    {
     "name": "stdout",
     "output_type": "stream",
     "text": [
      "0 loss:  3.2828569412231445 prediction str:  sk,kso,kkyk,k,oksss,,k,k,s,,sksykk,kkyssy,ss,sos,,kseks,,s,ss,ks,skss,kskkskyksksykk,kkk,,ekk,kssskkk,,kykskskks,sskskkk,ks,skks,,k,kssskkssyksksk,k,k,ksks,,k,ssskyks,,,sk,ksk,k,k\n",
      "1 loss:  2.9072532653808594 prediction str:    et utnu  nunuuuue e eu    e n    t u  t      e  tnu  n  tn uo ee   et   en  n n    ns  e tn u  nns  e e ntn    uuunun    tnuue un u  n uo   nun tn uet  n    n  n  n ntnuuueue  u\n",
      "2 loss:  3.2528741359710693 prediction str:    ttttttt tttttttt  ttt e ettttttttttt tt tt ttt ttettt  tttetttttttttt tttt  tttttttte  ettt tttt   t tetttttttttttttt e ttt tt ttttttt ttttttttttte ttett t ete t t  tttttt ttte \n",
      "3 loss:  3.0757553577423096 prediction str:    shs ehs e       e  h         t    e e    e e e          oh  o e e   o       o   e   e e   he   h  e   e  o e    e e eke     ee e s  oh  e   e         s e  e o        hke o      \n",
      "4 loss:  2.877918004989624 prediction str:         o       o     o       o     o          oo  o  o     o  o  o    o       o      o      o    o     o      o  o          o     o    o  o  o     o   o          o     o   os  o  \n",
      "5 loss:  2.64994478225708 prediction str:   nnod tod  oodlaolo rodoeon aonononoeo lo to  on lo  nodo oodloe o lododlroo  roto ono  n sood  ooo   noe nod a nodononoeo onolo rod tlodlo  onod roeotoe ao otoe ao lo od toe noeo\n",
      "6 loss:  2.555485725402832 prediction str:   aaoe toee toepae t aodoe epaodntedoepaaoeao t anloe toe dcodloe entoaodl aod totntedod tpatod taod t eoa tod a aoa t aoeptaod t toe taodloe paod toeptoe antaaoe an t taodtoe toe \n",
      "7 loss:  2.462517023086548 prediction str:   etoe toee thecte t totht e toe t thecttaeceetle the t e tuoetoece tatodl tod theatethe t utoe gloe t the toe t tat t ehe dlodte the taoetoe eaoe the the t ttahe te t gaoethe toe \n",
      "8 loss:  2.292844772338867 prediction str:   ethe the  thetoele toehe , the t , et thete g e loe e e  toeto te t toet toe the t ,h    tthe  loe e ,he the t tht t ehe  lo te the  loeth   loe the the t t uoe t  t tfo the the \n",
      "9 loss:  2.1496598720550537 prediction str:   etoeltoet to totle toth le t e t t  t to te   e to   he  to to t  t to t tod tod t todien t e  to    tod tod t t t t eh m to te t e  to to t to  the thd e   to  t    tto t e thel\n",
      "10 loss:  2.05131196975708 prediction str:   eto  toe  to ttt e totoe e t d t d  t t  meo  e to   h m to to t te doo  tod tod t d s en toe  to    tod to  t t t t th m to tt t em to to   to  toe th  e t to  t     ln t e the \n",
      "11 loss:  1.9613409042358398 prediction str:   ntoe too  to tut e too e e toa t d    to meo  e to   hem to to t  o doo  tod t u t d s  n toe  to    tos ao  t w t t th m to to t em to to   to  toe tod e t to  t     ln t e ton \n",
      "12 loss:  1.8173413276672363 prediction str:   nton tos  to lus n dotoele toa t d    ao meo le to   hem to to t co doo  tod ton t dos  m toe  to  t don aon t dut d shem to to toem to to   to  toe tos e sitom t  tn to the thnl\n",
      "13 loss:  1.7054498195648193 prediction str:   etoo tont tonlusle dothepe thd't d nl doipernle to  them to lo tect dood tod aon't dos  r toem to kt ,on aon t dut e them to co them to lo   ton the ths ersitlm ns tn ou the thnl\n",
      "14 loss:  1.607954978942871 prediction str:  letou'tout toncusle dsthepe thd't d n  ds pendle'th  the  to co lect dood tnd don't dssi r toer to ct wod don t dst e them tonchethe  to co   ton the thd drsiinu nsite oo the thd \n",
      "15 loss:  1.5038366317749023 prediction str:  letou'tont to cusle dsthipe dhn't d  t dy peonle'thg the  to collect dood tnd don't dssi e toer tolci wed doe , ,st e shem tonchether to loll tor the tod d'siinu nsi,e oo the thd \n",
      "16 loss:  1.4090758562088013 prediction str:  letoo'tont to cusle dsthipe aha't d u  ds peo le'thg them to collect dood and aod't d'sile toem tolci wed woo , dst rpthem tonchethem tollonl tod toe tod d'siinu nsite oo the thd \n",
      "17 loss:  1.320155382156372 prediction str:  letoo tont to tu le dsthipe don't dsum u  peo le'thg them to collect doog tnd aon't dfsile them to ti ted won , ,st rpshem tench them to lonl tog the tod ensiipu nsite oo teemt d \n",
      "18 loss:  1.2333775758743286 prediction str:  lytoo tont to busle dsthipe don't d um tp peonle thg them to collect aood tnd aon't dfsile them tonti ted won , tst apthem tench them to lonl for the tod ersitmu nsite oo themt d \n",
      "19 loss:  1.1633471250534058 prediction str:  lyton tond to busle dsship, don't d um up peon e tog them to collect aood and aon't dfsige them tonti tnd won , apt apther tonch them to lonl for the tod ersiimn nsite on the t d \n",
      "20 loss:  1.086105227470398 prediction str:  lyton tond to build aoship, don't d um up peon e to  them to collect aood aod aon't assign them to ki and wong, wss rmther tonch them to long tor the tod ensiimn nsitn of the t d \n",
      "21 loss:  1.0196009874343872 prediction str:  lyton tond wo build aoship, don't dnum upepeorle thg them to collect wood tnd don't dssign them tosks and donk, wss rmsher tonch them to long for the tod ens imn nsitn of the t d \n",
      "22 loss:  0.9670300483703613 prediction str:  lyton wond io build anship, don't dnum upepeorle to  them to lollect wood and don't dssign them tosks and donk, wut rmther tonch them to long for the tnd e t imm nsitn of the t d \n",
      "23 loss:  0.903904914855957 prediction str:  cyton wond to build anship, don't anum upepeople to  them to collect wood and don't assign them tosks and donk, wut rnther tonch them to long for the tod ers imm nsity of the t s \n",
      "24 loss:  0.8487012982368469 prediction str:  cyton tont to build asship, don't arum up people to  them to collect wood and don't assign them tosks and dork, but rmther tonch them to long tor the end ens imm nsity of the t s \n",
      "25 loss:  0.7986811399459839 prediction str:  cyton tont to build asship, don't arum up people tog ther to collect wood and don't assign them tosks and dook, but rmther tonch them to long for the end ess imm nsity of the eea \n",
      "26 loss:  0.752123236656189 prediction str:  cyton tont to build asship, don't arum up people tog ther to collect wood and don't assign them tosks and donk, but rnther tonch them to long for the endless imm nsity of the eeas\n",
      "27 loss:  0.711559534072876 prediction str:  cyton lont to build asship, don't drum up people tog ther to collect wood and don't dssign them tosks and wonk, but rmther toach them to long for the endlens imm nsity of the eeas\n",
      "28 loss:  0.6751355528831482 prediction str:  cyton lont to build asship, don't arum up people tog ther to collect wood and don't assign them tosks and wonk, but rmther tonch them to long for the endle s imm nsity of the eeas\n",
      "29 loss:  0.6416533589363098 prediction str:  cyton wont to build asship, don't drum up people tog ther to collect wood and don't dssign them tosks and dork, but rmther toach them to long for the endless imm nsity of the eeas\n",
      "30 loss:  0.6011158227920532 prediction str:  cyson wont to build anship, don't arum up peo le together to collect wood and don't assign them tosks and wook, but rfther toach them ta long for the endless imm nsity of the eea \n",
      "31 loss:  0.5670057535171509 prediction str:  lyson wont to build anship, don't arum up people together te collect wood and don't assign them tosks and wook, but rnther toach them ta long for the end ess imm nsity of the eea \n",
      "32 loss:  0.547260046005249 prediction str:  lyson wont to build anship, don't drum up people together te collect wood and don't dssign them tosks and wook, but rnther toach them ta long for the endless imm nsity of the eeas\n",
      "33 loss:  0.5210562348365784 prediction str:  lyson wont to build anship, don't drum up people together te collect wood and don't assign them tosks and wook, but rnther teach them to long for the endless immensity of the eea \n",
      "34 loss:  0.5037288069725037 prediction str:  tyson wont to build anship, don't arum up people together te collect wood and don't assign them tasks and work, but rnther teach them ta long for the endless immensity of the eea \n",
      "35 loss:  0.4790613055229187 prediction str:  tyson wont to build anship, don't drum up people together to collect wood and don't dssign them tosks and work, but rather toach them ta long for the endless immensity of the tha \n"
     ]
    },
    {
     "name": "stdout",
     "output_type": "stream",
     "text": [
      "36 loss:  0.45296141505241394 prediction str:  tyeou wont to build anship, don't drum up people together to collect wood and don't assign them tosks and work, but rather toach them to long for the endless immensity of the eea \n",
      "37 loss:  0.4383125305175781 prediction str:  tyeou want to build anship, don't drum up people together to collect wood and don't assign them tasks and work, but rather teach them ta long for the endless immensity of the tea \n",
      "38 loss:  0.41919127106666565 prediction str:  tyyou wont to build anship, don't drum up people together to collect wood and don't assign them tosks and work, but rather teach them to long for the endless immensity of the tea \n",
      "39 loss:  0.40072986483573914 prediction str:  tmeou wont to build anship, don't drum up people together to collect wood and don't assign them tasks and work, but rather teach them to long for the endless immensity of the sea \n",
      "40 loss:  0.38995736837387085 prediction str:  tmyou wont to build anship, don't arum up people together to collect wood and don't assign them tasks and work, but rather toach them to long for the endless immensity of the tea \n",
      "41 loss:  0.37729039788246155 prediction str:  tmyou wont to build anship, don't drum up people together to collect wood and don't assign them tasks and work, but rather teach them to long for the endless immensity of the sea \n",
      "42 loss:  0.3660282492637634 prediction str:  tmyou wont to build anship, don't drum up people together to collect wood and don't assign them tasks and work, but rather teach them to long for the endless immensity of the sea \n",
      "43 loss:  0.3567485511302948 prediction str:  tmyou want to build anship, don't drum up people together to collect wood and don't assign them tosks and work, but rather teach them to long for the endless immensity of the sea \n",
      "44 loss:  0.34380781650543213 prediction str:  tmyou want to build anship, don't drum up people together to collect wood and don't assign them tosks and work, but rather teach them to long for the endless immensity of the sea \n",
      "45 loss:  0.336220383644104 prediction str:  tmyou want to build a ship, don't drum up people together to collect wood and don't assign them tasks and work, but rather teach them to long for the endless immensity of the sea \n",
      "46 loss:  0.3297707140445709 prediction str:  tmyou want to build a ship, don't drum up people together to collect wood and don't assign them tasks and work, but rather teach them to long for the endless immensity of the sea.\n",
      "47 loss:  0.324945867061615 prediction str:  tmyou want to build a ship, don't drum up people together to collect wood and don't assign them tosks and work, but rather teach them to long for the sndless immensity of the seac\n",
      "48 loss:  0.330630898475647 prediction str:  tmyou want to build a ship, don't drum up people together to collect wood and don't assign them tasks and work, but rather teach them to long for the endless immensity of the e a \n",
      "49 loss:  0.324847549200058 prediction str:  tmyou want to build a ship, don't drum up people together to collect wood and don't assign them tasks and work, but rather teach them to long for the endless immensity of the sea \n",
      "50 loss:  0.33917248249053955 prediction str:  tmyou want to build a ship, don't drum up people together to collect wood and don't dssign them tosks and work, but rather toach them to long for therendless immensity of the sea.\n",
      "51 loss:  0.33148160576820374 prediction str:  tmyou want to build a ship, don't drum up people together to collect wood and don't dssign them tosks and wook, but rather teach them to long for the endless immensity of the sea \n",
      "52 loss:  0.32501062750816345 prediction str:  tmyou want to build a ship, don't drum up people together to collect wood and don't assign them tosks and work, but rather teach them to long for the endless immensity of the sea \n",
      "53 loss:  0.31333234906196594 prediction str:  tyyou want to build a ship, don't drum up people together to collect wood and don't assign them tosks and work, but rather teach them to long for the endless immensity of the sea \n",
      "54 loss:  0.31368058919906616 prediction str:  tyyou want to build a ship, don't arum up people together to collect wood and don't assign them tosks and work, but rather teach them to long for the endless immensity of the eea.\n",
      "55 loss:  0.30036595463752747 prediction str:  t you want to build a ship, don't drum up people together to collect wood and don't assign them tosks and work, but rather teach them to long for the endless immensity of the sea.\n",
      "56 loss:  0.2999913990497589 prediction str:  l you want to build a ship, don't drum up people together to collect wood and don't dssign them tosks and work, but rather teach them to long for the endless immensity of the sea.\n",
      "57 loss:  0.2982320189476013 prediction str:  l you want to build a ship, don't drum up people together to collect wood and don't dssign them tosks and work, but rather teach them to long for the endless immensity of the sea.\n",
      "58 loss:  0.28904464840888977 prediction str:  l you want to build a ship, don't drum up people together to collect wood and don't dssign them tosks and work, but rather teach them to long for the endless immensity of the sea.\n",
      "59 loss:  0.2902235984802246 prediction str:  t you want to build a ship, don't drum up people together to collect wood and don't dssign them tosks and work, but rather teach them to long for the endless immensity of the sea.\n",
      "60 loss:  0.2837977111339569 prediction str:  t you want to build a ship, don't drum up people together to collect wood and don't dssign them tasks and work, but rather teach them ta long for the endless immensity of the sea.\n",
      "61 loss:  0.28222861886024475 prediction str:  t you want to build a ship, don't drum up people together to collect wood and don't assign them tasks and work, but rather teach them ta long for the endless immensity of the sea.\n",
      "62 loss:  0.27726462483406067 prediction str:  t you want to build a ship, don't drum up people together to collect wood and don't assign them tasks and work, but rather teach them ta long for the endless immensity of the sea.\n",
      "63 loss:  0.275187611579895 prediction str:  t you want to build a ship, don't drum up people together to collect wood and don't assign them tosks and work, but rather teach them to long for the endless immensity of the sea.\n",
      "64 loss:  0.2735220193862915 prediction str:  t you want to build a ship, don't drum up people together to collect wood and don't assign them tosks and work, but rather teach them to long for the endless immensity of the sea.\n",
      "65 loss:  0.2693265676498413 prediction str:  t you want to build a ship, don't drum up people together to collect wood and don't assign them tosks and work, but rather teach them to long for the endless immensity of the sea.\n",
      "66 loss:  0.26867392659187317 prediction str:  t you want to build a ship, don't drum up people together to collect wood and don't assign them tosks and work, but rather teach them to long for the endless immensity of the sea.\n",
      "67 loss:  0.2666860520839691 prediction str:  t you want to build a ship, don't drum up people together to collect wood and don't assign them tosks and work, but rather teach them to long for the endless immensity of the sea.\n",
      "68 loss:  0.26460736989974976 prediction str:  t you want to build a ship, don't drum up people together to collect wood and don't assign them tosks and work, but rather teach them to long for the endless immensity of the sea.\n",
      "69 loss:  0.2627772390842438 prediction str:  t you want to build a ship, don't drum up people together to collect wood and don't assign them tosks and work, but rather teach them to long for the endless immensity of the sea.\n",
      "70 loss:  0.2612750828266144 prediction str:  t you want to build a ship, don't drum up people together to collect wood and don't assign them tasks and work, but rather teach them to long for the endless immensity of the sea.\n",
      "71 loss:  0.2594507336616516 prediction str:  t you want to build a ship, don't drum up people together to collect wood and don't assign them tasks and work, but rather teach them to long for the endless immensity of the sea.\n"
     ]
    },
    {
     "name": "stdout",
     "output_type": "stream",
     "text": [
      "72 loss:  0.2585558593273163 prediction str:  t you want to build a ship, don't drum up people together to collect wood and don't assign them tosks and work, but rather teach them to long for the endless immensity of the sea.\n",
      "73 loss:  0.2584381401538849 prediction str:  t you want to build a ship, don't drum up people together to collect wood and don't assign them tasks and work, but rather teach them to long for the endless immensity of the sea.\n",
      "74 loss:  0.2561393976211548 prediction str:  t you want to build a ship, don't drum up people together to collect wood and don't assign them tosks and work, but rather teach them to long for the endless immensity of the sea.\n",
      "75 loss:  0.25491976737976074 prediction str:  t you want to build a ship, don't drum up people together to collect wood and don't assign them tosks and work, but rather teach them to long for the endless immensity of the sea.\n",
      "76 loss:  0.25505274534225464 prediction str:  t you want to build a ship, don't drum up people together to collect wood and don't assign them tasks and work, but rather teach them to long for the endless immensity of the sea.\n",
      "77 loss:  0.25715306401252747 prediction str:  t you want to build a ship, don't drum up people together to collect wood and don't assign them tasks and work, but rather teach them to long for the endless immensity of the sea.\n",
      "78 loss:  0.25433677434921265 prediction str:  t you want to build a ship, don't drum up people together to collect wood and don't assign them tasks and work, but rather teach them to long for the endless immensity of the sea.\n",
      "79 loss:  0.252387672662735 prediction str:  t you want to build a ship, don't drum up people together to collect wood and don't assign them tasks and work, but rather teach them to long for the endless immensity of the sea.\n",
      "80 loss:  0.2514275014400482 prediction str:  m you want to build a ship, don't drum up people together to collect wood and don't assign them tasks and work, but rather teach them to long for the endless immensity of the sea.\n",
      "81 loss:  0.2510474622249603 prediction str:  m you want to build a ship, don't drum up people together to collect wood and don't assign them tasks and work, but rather teach them to long for the endless immensity of the sea.\n",
      "82 loss:  0.24949058890342712 prediction str:  l you want to build a ship, don't drum up people together to collect wood and don't assign them tasks and work, but rather teach them to long for the endless immensity of the sea.\n",
      "83 loss:  0.24967291951179504 prediction str:  l you want to build a ship, don't drum up people together to collect wood and don't assign them tasks and work, but rather teach them to long for the endless immensity of the sea.\n",
      "84 loss:  0.24812105298042297 prediction str:  l you want to build a ship, don't drum up people together to collect wood and don't assign them tasks and work, but rather teach them to long for the endless immensity of the sea.\n",
      "85 loss:  0.24798469245433807 prediction str:  l you want to build a ship, don't drum up people together to collect wood and don't assign them tasks and work, but rather teach them to long for the endless immensity of the sea.\n",
      "86 loss:  0.24863938987255096 prediction str:  l you want to build a ship, don't drum up people together to collect wood and don't assign them tasks and work, but rather teach them to long for the endless immensity of the sea.\n",
      "87 loss:  0.2488783746957779 prediction str:  l you want to build a ship, don't drum up people together to collect wood and don't assign them tasks and work, but rather teach them to long for the endless immensity of the sea.\n",
      "88 loss:  0.25051647424697876 prediction str:  l you want to build a ship, don't drum up people together to collect wood and don't assign them tasks and work, but rather teach them to long for the endless immensity of the sea.\n",
      "89 loss:  0.24823209643363953 prediction str:  l you want to build a ship, don't drum up people together to collect wood and don't assign them tasks and work, but rather teach them to long for the endless immensity of the sea.\n",
      "90 loss:  0.2475268393754959 prediction str:  l you want to build a ship, don't drum up people together to collect wood and don't assign them tasks and work, but rather teach them to long for the endless immensity of the sea.\n",
      "91 loss:  0.2469634860754013 prediction str:  l you want to build a ship, don't drum up people together to collect wood and don't assign them tasks and work, but rather teach them to long for the endless immensity of the sea.\n",
      "92 loss:  0.24561645090579987 prediction str:  f you want to build a ship, don't drum up people together to collect wood and don't assign them tasks and work, but rather teach them to long for the endless immensity of the sea.\n",
      "93 loss:  0.24547210335731506 prediction str:  f you want to build a ship, don't drum up people together to collect wood and don't assign them tasks and work, but rather teach them to long for the endless immensity of the sea.\n",
      "94 loss:  0.24509921669960022 prediction str:  f you want to build a ship, don't drum up people together to collect wood and don't assign them tasks and work, but rather teach them to long for the endless immensity of the sea.\n",
      "95 loss:  0.24420244991779327 prediction str:  t you want to build a ship, don't drum up people together to collect wood and don't assign them tasks and work, but rather teach them to long for the endless immensity of the sea.\n",
      "96 loss:  0.24365898966789246 prediction str:  t you want to build a ship, don't drum up people together to collect wood and don't assign them tasks and work, but rather teach them to long for the endless immensity of the sea.\n",
      "97 loss:  0.24357353150844574 prediction str:  t you want to build a ship, don't drum up people together to collect wood and don't assign them tasks and work, but rather teach them to long for the endless immensity of the sea.\n",
      "98 loss:  0.24295182526111603 prediction str:  t you want to build a ship, don't drum up people together to collect wood and don't assign them tasks and work, but rather teach them to long for the endless immensity of the sea.\n",
      "99 loss:  0.2423529475927353 prediction str:  t you want to build a ship, don't drum up people together to collect wood and don't assign them tasks and work, but rather teach them to long for the endless immensity of the sea.\n"
     ]
    }
   ],
   "source": [
    "# start training\n",
    "for i in range(100):\n",
    "    optimizer.zero_grad()\n",
    "    outputs = net(X)\n",
    "    loss = criterion(outputs.view(-1, dic_size), Y.view(-1))\n",
    "    loss.backward()\n",
    "    optimizer.step()\n",
    "\n",
    "    results = outputs.argmax(dim=2)\n",
    "    predict_str = \"\"\n",
    "    for j, result in enumerate(results):\n",
    "        # print(i, j, ''.join([char_set[t] for t in result]), loss.item())\n",
    "        if j == 0:\n",
    "            predict_str += ''.join([char_set[t] for t in result])\n",
    "        else:\n",
    "            predict_str += char_set[result[-1]]\n",
    "    \n",
    "    print(i, \"loss: \", loss.item(), \"prediction str: \", predict_str)\n",
    "\n",
    "    #print(predict_str)\n",
    "#     print(i, \"loss: \", loss.item(), \n",
    "#               \"prediction: \", results, \n",
    "#               \"true Y: \", y_data, \n",
    "#               \"prediction str: \", predict_str)\n"
   ]
  },
  {
   "cell_type": "code",
   "execution_count": null,
   "metadata": {},
   "outputs": [],
   "source": []
  }
 ],
 "metadata": {
  "hide_input": false,
  "kernelspec": {
   "display_name": "Python 3",
   "language": "python",
   "name": "python3"
  },
  "language_info": {
   "codemirror_mode": {
    "name": "ipython",
    "version": 3
   },
   "file_extension": ".py",
   "mimetype": "text/x-python",
   "name": "python",
   "nbconvert_exporter": "python",
   "pygments_lexer": "ipython3",
   "version": "3.6.9"
  },
  "toc": {
   "base_numbering": 1,
   "nav_menu": {},
   "number_sections": true,
   "sideBar": true,
   "skip_h1_title": false,
   "title_cell": "Table of Contents",
   "title_sidebar": "Contents",
   "toc_cell": false,
   "toc_position": {},
   "toc_section_display": true,
   "toc_window_display": false
  },
  "varInspector": {
   "cols": {
    "lenName": 16,
    "lenType": 16,
    "lenVar": 40
   },
   "kernels_config": {
    "python": {
     "delete_cmd_postfix": "",
     "delete_cmd_prefix": "del ",
     "library": "var_list.py",
     "varRefreshCmd": "print(var_dic_list())"
    },
    "r": {
     "delete_cmd_postfix": ") ",
     "delete_cmd_prefix": "rm(",
     "library": "var_list.r",
     "varRefreshCmd": "cat(var_dic_list()) "
    }
   },
   "types_to_exclude": [
    "module",
    "function",
    "builtin_function_or_method",
    "instance",
    "_Feature"
   ],
   "window_display": false
  }
 },
 "nbformat": 4,
 "nbformat_minor": 2
}
