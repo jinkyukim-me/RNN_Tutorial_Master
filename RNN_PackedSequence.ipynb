{
 "cells": [
  {
   "cell_type": "markdown",
   "metadata": {},
   "source": [
    "### 이 튜토리얼에서는 RNN / LSTM 계열의 모델에서 sequence batch를 잘 활용할 수 있는 PackedSequence 와 PaddedSequence를 만드는 법을 배워보겠습니다.\n",
    "\n",
    "PyTorch 라이브러리 안에는 다음 4가지 함수들이 주어집니다.\n",
    "\n",
    "pad_sequence, pack_sequence, pack_padded_sequence, pad_packed_sequence\n",
    "\n",
    "하지만 함수 이름만 봐서는 상당히 헷갈릴 수 있기 때문에 다음 그림을 참고하시면 이해하기 편하실 것 같습니다."
   ]
  },
  {
   "cell_type": "markdown",
   "metadata": {},
   "source": [
    "<img src=\""
   ]
  },
  {
   "cell_type": "code",
   "execution_count": 1,
   "metadata": {
    "ExecuteTime": {
     "end_time": "2019-09-25T11:20:54.559319Z",
     "start_time": "2019-09-25T11:20:54.555363Z"
    }
   },
   "outputs": [],
   "source": [
    "import torch\n",
    "import numpy as np\n",
    "from torch.nn.utils.rnn import pad_sequence, pack_sequence, pack_padded_sequence, pad_packed_sequence"
   ]
  },
  {
   "cell_type": "code",
   "execution_count": 2,
   "metadata": {
    "ExecuteTime": {
     "end_time": "2019-09-25T11:21:39.396107Z",
     "start_time": "2019-09-25T11:21:39.385136Z"
    }
   },
   "outputs": [
    {
     "name": "stdout",
     "output_type": "stream",
     "text": [
      "char_set: ['<pad>', 'p', 'd', 'h', 'i', 'c', 'w', 'n', 't', 'r', 's', 'g', 'l', 'o', 'u', ' ', 'm', 'e', 'a']\n",
      "char_set length: 19\n"
     ]
    }
   ],
   "source": [
    "# Random word from random word generator\n",
    "data = ['hello world',\n",
    "        'midnight',\n",
    "        'calculation',\n",
    "        'path',\n",
    "        'short circuit']\n",
    "\n",
    "# Make dictionary\n",
    "char_set = ['<pad>'] + list(set(char for seq in data for char in seq)) # Get all characters and include pad token\n",
    "char2idx = {char: idx for idx, char in enumerate(char_set)} # Constuct character to index dictionary\n",
    "print('char_set:', char_set)\n",
    "print('char_set length:', len(char_set))"
   ]
  },
  {
   "cell_type": "code",
   "execution_count": 3,
   "metadata": {
    "ExecuteTime": {
     "end_time": "2019-09-25T11:22:37.771739Z",
     "start_time": "2019-09-25T11:22:37.761752Z"
    }
   },
   "outputs": [
    {
     "data": {
      "text/plain": [
       "{'<pad>': 0,\n",
       " 'p': 1,\n",
       " 'd': 2,\n",
       " 'h': 3,\n",
       " 'i': 4,\n",
       " 'c': 5,\n",
       " 'w': 6,\n",
       " 'n': 7,\n",
       " 't': 8,\n",
       " 'r': 9,\n",
       " 's': 10,\n",
       " 'g': 11,\n",
       " 'l': 12,\n",
       " 'o': 13,\n",
       " 'u': 14,\n",
       " ' ': 15,\n",
       " 'm': 16,\n",
       " 'e': 17,\n",
       " 'a': 18}"
      ]
     },
     "execution_count": 3,
     "metadata": {},
     "output_type": "execute_result"
    }
   ],
   "source": [
    "char2idx"
   ]
  },
  {
   "cell_type": "code",
   "execution_count": 4,
   "metadata": {
    "ExecuteTime": {
     "end_time": "2019-09-25T11:22:48.643831Z",
     "start_time": "2019-09-25T11:22:48.628846Z"
    }
   },
   "outputs": [
    {
     "name": "stdout",
     "output_type": "stream",
     "text": [
      "tensor([ 3, 17, 12, 12, 13, 15,  6, 13,  9, 12,  2])\n",
      "tensor([16,  4,  2,  7,  4, 11,  3,  8])\n",
      "tensor([ 5, 18, 12,  5, 14, 12, 18,  8,  4, 13,  7])\n",
      "tensor([ 1, 18,  8,  3])\n",
      "tensor([10,  3, 13,  9,  8, 15,  5,  4,  9,  5, 14,  4,  8])\n"
     ]
    }
   ],
   "source": [
    "# Convert character to index and make list of tensors\n",
    "X = [torch.LongTensor([char2idx[char] for char in seq]) for seq in data]\n",
    "\n",
    "# Check converted result\n",
    "for sequence in X:\n",
    "    print(sequence)"
   ]
  },
  {
   "cell_type": "code",
   "execution_count": 5,
   "metadata": {
    "ExecuteTime": {
     "end_time": "2019-09-25T11:23:03.058520Z",
     "start_time": "2019-09-25T11:23:03.051539Z"
    }
   },
   "outputs": [
    {
     "data": {
      "text/plain": [
       "[tensor([ 3, 17, 12, 12, 13, 15,  6, 13,  9, 12,  2]),\n",
       " tensor([16,  4,  2,  7,  4, 11,  3,  8]),\n",
       " tensor([ 5, 18, 12,  5, 14, 12, 18,  8,  4, 13,  7]),\n",
       " tensor([ 1, 18,  8,  3]),\n",
       " tensor([10,  3, 13,  9,  8, 15,  5,  4,  9,  5, 14,  4,  8])]"
      ]
     },
     "execution_count": 5,
     "metadata": {},
     "output_type": "execute_result"
    }
   ],
   "source": [
    "X"
   ]
  },
  {
   "cell_type": "code",
   "execution_count": null,
   "metadata": {},
   "outputs": [],
   "source": []
  }
 ],
 "metadata": {
  "hide_input": false,
  "kernelspec": {
   "display_name": "Python 3",
   "language": "python",
   "name": "python3"
  },
  "language_info": {
   "codemirror_mode": {
    "name": "ipython",
    "version": 3
   },
   "file_extension": ".py",
   "mimetype": "text/x-python",
   "name": "python",
   "nbconvert_exporter": "python",
   "pygments_lexer": "ipython3",
   "version": "3.6.9"
  },
  "toc": {
   "base_numbering": 1,
   "nav_menu": {},
   "number_sections": true,
   "sideBar": true,
   "skip_h1_title": false,
   "title_cell": "Table of Contents",
   "title_sidebar": "Contents",
   "toc_cell": false,
   "toc_position": {},
   "toc_section_display": true,
   "toc_window_display": false
  },
  "varInspector": {
   "cols": {
    "lenName": 16,
    "lenType": 16,
    "lenVar": 40
   },
   "kernels_config": {
    "python": {
     "delete_cmd_postfix": "",
     "delete_cmd_prefix": "del ",
     "library": "var_list.py",
     "varRefreshCmd": "print(var_dic_list())"
    },
    "r": {
     "delete_cmd_postfix": ") ",
     "delete_cmd_prefix": "rm(",
     "library": "var_list.r",
     "varRefreshCmd": "cat(var_dic_list()) "
    }
   },
   "types_to_exclude": [
    "module",
    "function",
    "builtin_function_or_method",
    "instance",
    "_Feature"
   ],
   "window_display": false
  }
 },
 "nbformat": 4,
 "nbformat_minor": 2
}
